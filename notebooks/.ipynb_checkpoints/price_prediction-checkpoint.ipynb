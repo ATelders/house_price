{
 "cells": [
  {
   "cell_type": "code",
   "execution_count": 58,
   "metadata": {},
   "outputs": [],
   "source": [
    "import pandas as pd\n",
    "import sys\n",
    "sys.path.insert(0, \"/home/apprenant/simplon_projects/house_price/\")\n",
    "from src.d00_utils.functions import columns_with_missing_values\n",
    "import seaborn as sns\n",
    "import numpy as np\n",
    "from scipy import stats\n",
    "from matplotlib import pyplot as plt"
   ]
  },
  {
   "cell_type": "markdown",
   "metadata": {},
   "source": [
    "Importation de la donnée"
   ]
  },
  {
   "cell_type": "code",
   "execution_count": 59,
   "metadata": {},
   "outputs": [],
   "source": [
    "df = pd.read_csv(r\"/home/apprenant/simplon_projects/house_price/data/train.csv\")"
   ]
  },
  {
   "cell_type": "code",
   "execution_count": 60,
   "metadata": {},
   "outputs": [],
   "source": [
    "numeric_cols = df.select_dtypes(include=[ 'int64','float64' ])"
   ]
  },
  {
   "cell_type": "code",
   "execution_count": 61,
   "metadata": {},
   "outputs": [],
   "source": [
    "categorical_cols = df.select_dtypes(include=[ 'object' ])"
   ]
  },
  {
   "cell_type": "code",
   "execution_count": 62,
   "metadata": {},
   "outputs": [],
   "source": [
    "all_numeric = numeric_cols.join(pd.get_dummies(categorical_cols))"
   ]
  },
  {
   "cell_type": "code",
   "execution_count": 63,
   "metadata": {},
   "outputs": [],
   "source": [
    "all_numeric = all_numeric.drop(columns=['SalePrice'])"
   ]
  },
  {
   "cell_type": "code",
   "execution_count": 64,
   "metadata": {},
   "outputs": [
    {
     "data": {
      "text/html": [
       "<div>\n",
       "<style scoped>\n",
       "    .dataframe tbody tr th:only-of-type {\n",
       "        vertical-align: middle;\n",
       "    }\n",
       "\n",
       "    .dataframe tbody tr th {\n",
       "        vertical-align: top;\n",
       "    }\n",
       "\n",
       "    .dataframe thead th {\n",
       "        text-align: right;\n",
       "    }\n",
       "</style>\n",
       "<table border=\"1\" class=\"dataframe\">\n",
       "  <thead>\n",
       "    <tr style=\"text-align: right;\">\n",
       "      <th></th>\n",
       "      <th>Id</th>\n",
       "      <th>MSSubClass</th>\n",
       "      <th>LotFrontage</th>\n",
       "      <th>LotArea</th>\n",
       "      <th>OverallQual</th>\n",
       "      <th>OverallCond</th>\n",
       "      <th>YearBuilt</th>\n",
       "      <th>YearRemodAdd</th>\n",
       "      <th>MasVnrArea</th>\n",
       "      <th>BsmtFinSF1</th>\n",
       "      <th>...</th>\n",
       "      <th>SaleType_ConLw</th>\n",
       "      <th>SaleType_New</th>\n",
       "      <th>SaleType_Oth</th>\n",
       "      <th>SaleType_WD</th>\n",
       "      <th>SaleCondition_Abnorml</th>\n",
       "      <th>SaleCondition_AdjLand</th>\n",
       "      <th>SaleCondition_Alloca</th>\n",
       "      <th>SaleCondition_Family</th>\n",
       "      <th>SaleCondition_Normal</th>\n",
       "      <th>SaleCondition_Partial</th>\n",
       "    </tr>\n",
       "  </thead>\n",
       "  <tbody>\n",
       "    <tr>\n",
       "      <th>0</th>\n",
       "      <td>1</td>\n",
       "      <td>60</td>\n",
       "      <td>65.0</td>\n",
       "      <td>8450</td>\n",
       "      <td>7</td>\n",
       "      <td>5</td>\n",
       "      <td>2003</td>\n",
       "      <td>2003</td>\n",
       "      <td>196.0</td>\n",
       "      <td>706</td>\n",
       "      <td>...</td>\n",
       "      <td>0</td>\n",
       "      <td>0</td>\n",
       "      <td>0</td>\n",
       "      <td>1</td>\n",
       "      <td>0</td>\n",
       "      <td>0</td>\n",
       "      <td>0</td>\n",
       "      <td>0</td>\n",
       "      <td>1</td>\n",
       "      <td>0</td>\n",
       "    </tr>\n",
       "    <tr>\n",
       "      <th>1</th>\n",
       "      <td>2</td>\n",
       "      <td>20</td>\n",
       "      <td>80.0</td>\n",
       "      <td>9600</td>\n",
       "      <td>6</td>\n",
       "      <td>8</td>\n",
       "      <td>1976</td>\n",
       "      <td>1976</td>\n",
       "      <td>0.0</td>\n",
       "      <td>978</td>\n",
       "      <td>...</td>\n",
       "      <td>0</td>\n",
       "      <td>0</td>\n",
       "      <td>0</td>\n",
       "      <td>1</td>\n",
       "      <td>0</td>\n",
       "      <td>0</td>\n",
       "      <td>0</td>\n",
       "      <td>0</td>\n",
       "      <td>1</td>\n",
       "      <td>0</td>\n",
       "    </tr>\n",
       "    <tr>\n",
       "      <th>2</th>\n",
       "      <td>3</td>\n",
       "      <td>60</td>\n",
       "      <td>68.0</td>\n",
       "      <td>11250</td>\n",
       "      <td>7</td>\n",
       "      <td>5</td>\n",
       "      <td>2001</td>\n",
       "      <td>2002</td>\n",
       "      <td>162.0</td>\n",
       "      <td>486</td>\n",
       "      <td>...</td>\n",
       "      <td>0</td>\n",
       "      <td>0</td>\n",
       "      <td>0</td>\n",
       "      <td>1</td>\n",
       "      <td>0</td>\n",
       "      <td>0</td>\n",
       "      <td>0</td>\n",
       "      <td>0</td>\n",
       "      <td>1</td>\n",
       "      <td>0</td>\n",
       "    </tr>\n",
       "    <tr>\n",
       "      <th>3</th>\n",
       "      <td>4</td>\n",
       "      <td>70</td>\n",
       "      <td>60.0</td>\n",
       "      <td>9550</td>\n",
       "      <td>7</td>\n",
       "      <td>5</td>\n",
       "      <td>1915</td>\n",
       "      <td>1970</td>\n",
       "      <td>0.0</td>\n",
       "      <td>216</td>\n",
       "      <td>...</td>\n",
       "      <td>0</td>\n",
       "      <td>0</td>\n",
       "      <td>0</td>\n",
       "      <td>1</td>\n",
       "      <td>1</td>\n",
       "      <td>0</td>\n",
       "      <td>0</td>\n",
       "      <td>0</td>\n",
       "      <td>0</td>\n",
       "      <td>0</td>\n",
       "    </tr>\n",
       "    <tr>\n",
       "      <th>4</th>\n",
       "      <td>5</td>\n",
       "      <td>60</td>\n",
       "      <td>84.0</td>\n",
       "      <td>14260</td>\n",
       "      <td>8</td>\n",
       "      <td>5</td>\n",
       "      <td>2000</td>\n",
       "      <td>2000</td>\n",
       "      <td>350.0</td>\n",
       "      <td>655</td>\n",
       "      <td>...</td>\n",
       "      <td>0</td>\n",
       "      <td>0</td>\n",
       "      <td>0</td>\n",
       "      <td>1</td>\n",
       "      <td>0</td>\n",
       "      <td>0</td>\n",
       "      <td>0</td>\n",
       "      <td>0</td>\n",
       "      <td>1</td>\n",
       "      <td>0</td>\n",
       "    </tr>\n",
       "  </tbody>\n",
       "</table>\n",
       "<p>5 rows × 289 columns</p>\n",
       "</div>"
      ],
      "text/plain": [
       "   Id  MSSubClass  LotFrontage  LotArea  OverallQual  OverallCond  YearBuilt  \\\n",
       "0   1          60         65.0     8450            7            5       2003   \n",
       "1   2          20         80.0     9600            6            8       1976   \n",
       "2   3          60         68.0    11250            7            5       2001   \n",
       "3   4          70         60.0     9550            7            5       1915   \n",
       "4   5          60         84.0    14260            8            5       2000   \n",
       "\n",
       "   YearRemodAdd  MasVnrArea  BsmtFinSF1  ...  SaleType_ConLw  SaleType_New  \\\n",
       "0          2003       196.0         706  ...               0             0   \n",
       "1          1976         0.0         978  ...               0             0   \n",
       "2          2002       162.0         486  ...               0             0   \n",
       "3          1970         0.0         216  ...               0             0   \n",
       "4          2000       350.0         655  ...               0             0   \n",
       "\n",
       "   SaleType_Oth  SaleType_WD  SaleCondition_Abnorml  SaleCondition_AdjLand  \\\n",
       "0             0            1                      0                      0   \n",
       "1             0            1                      0                      0   \n",
       "2             0            1                      0                      0   \n",
       "3             0            1                      1                      0   \n",
       "4             0            1                      0                      0   \n",
       "\n",
       "   SaleCondition_Alloca  SaleCondition_Family  SaleCondition_Normal  \\\n",
       "0                     0                     0                     1   \n",
       "1                     0                     0                     1   \n",
       "2                     0                     0                     1   \n",
       "3                     0                     0                     0   \n",
       "4                     0                     0                     1   \n",
       "\n",
       "   SaleCondition_Partial  \n",
       "0                      0  \n",
       "1                      0  \n",
       "2                      0  \n",
       "3                      0  \n",
       "4                      0  \n",
       "\n",
       "[5 rows x 289 columns]"
      ]
     },
     "execution_count": 64,
     "metadata": {},
     "output_type": "execute_result"
    }
   ],
   "source": [
    "all_numeric.head()"
   ]
  },
  {
   "cell_type": "code",
   "execution_count": 65,
   "metadata": {
    "tags": []
   },
   "outputs": [
    {
     "data": {
      "text/plain": [
       "Id                         0\n",
       "BsmtFinType1_ALQ           0\n",
       "BsmtExposure_No            0\n",
       "BsmtExposure_Mn            0\n",
       "BsmtExposure_Gd            0\n",
       "                        ... \n",
       "Condition2_Feedr           0\n",
       "SaleCondition_Partial      0\n",
       "MasVnrArea                 8\n",
       "GarageYrBlt               81\n",
       "LotFrontage              259\n",
       "Length: 289, dtype: int64"
      ]
     },
     "execution_count": 65,
     "metadata": {},
     "output_type": "execute_result"
    }
   ],
   "source": [
    "all_numeric.isna().sum().sort_values()"
   ]
  },
  {
   "cell_type": "code",
   "execution_count": 66,
   "metadata": {},
   "outputs": [],
   "source": [
    "all_numeric = all_numeric.drop(columns=['MasVnrArea', 'GarageYrBlt', 'LotFrontage'])"
   ]
  },
  {
   "cell_type": "code",
   "execution_count": 67,
   "metadata": {},
   "outputs": [],
   "source": [
    "dummies = pd.get_dummies(categorical_cols)"
   ]
  },
  {
   "cell_type": "markdown",
   "metadata": {},
   "source": [
    "Sélection des variables explicatives"
   ]
  },
  {
   "cell_type": "code",
   "execution_count": 68,
   "metadata": {},
   "outputs": [],
   "source": [
    "y = df.SalePrice\n",
    "X = all_numeric"
   ]
  },
  {
   "cell_type": "code",
   "execution_count": 69,
   "metadata": {},
   "outputs": [],
   "source": [
    "from sklearn.model_selection import train_test_split\n",
    "xtrain, xtest, ytrain, ytest = train_test_split(X, y, train_size=0.8)"
   ]
  },
  {
   "cell_type": "code",
   "execution_count": 70,
   "metadata": {},
   "outputs": [
    {
     "name": "stdout",
     "output_type": "stream",
     "text": [
      "Régression linéaire\n",
      "Les coefficients de régression sont : [ 1.50131609e+00 -1.59501297e+01  7.32821540e-01  5.93636243e+03\n",
      "  6.06702155e+03  3.95986885e+02  1.27578020e+02  2.09311115e+01\n",
      "  5.37996652e+00  9.75068532e-01  2.72861584e+01  1.31278527e+01\n",
      "  3.53130591e+01 -9.56922676e+00  3.88716767e+01  7.26953534e+02\n",
      "  9.99617247e+02  2.10829068e+03 -2.71183334e+02 -4.32559045e+03\n",
      " -1.05381885e+04  7.31011991e+02  2.88660862e+03  4.47979319e+03\n",
      "  7.65787857e+00  1.30379476e+01  2.05331255e+01  2.21919171e+01\n",
      "  3.00746572e+01  3.61282994e+01  1.81625191e+02 -1.34569619e+00\n",
      " -5.62796917e+02 -6.15402320e+02 -2.54981089e+04  1.95339414e+04\n",
      "  4.03366654e+03  3.69998824e+03 -1.76948725e+03 -1.74701942e+04\n",
      "  1.74701942e+04 -1.29063267e+03 -5.43644351e+03 -2.72552159e+03\n",
      "  2.09973690e+03  2.98072986e+03 -2.35494517e+03  2.00537712e+03\n",
      "  6.58378666e+03 -1.35533653e+04  4.96420148e+03  1.17130123e+04\n",
      " -1.17130123e+04  1.99333895e+03  1.03178182e+04 -7.47558739e+03\n",
      " -5.33819585e+03  5.02626080e+02  9.40574625e+03  1.24228951e+04\n",
      " -2.18286413e+04 -2.82200252e+03  1.07169782e+04  5.76293485e+03\n",
      "  3.82835564e+03 -1.14559114e+04 -7.67139331e+03  1.31788823e+04\n",
      " -1.16775849e+04 -9.14203932e+03 -2.30039575e+03 -7.05695758e+03\n",
      " -1.59314699e+04 -1.27272837e+04  2.06652212e+04 -1.26580063e+04\n",
      "  2.39576463e+04  1.42664499e+04 -8.45614009e+03 -5.54394693e+03\n",
      " -5.08062565e+03 -1.85742017e+03 -8.27104368e+03  4.17123209e+04\n",
      " -1.08471099e+04 -5.89458173e+02 -2.04684204e+03  3.21547690e+03\n",
      "  1.20992268e+04  2.33816108e+02  2.37121984e+03 -1.21487260e+04\n",
      "  8.47577541e+03 -2.33310249e+04  1.11310778e+04  7.52688074e+04\n",
      "  7.60048897e+04  7.51694358e+04  5.39787556e+04 -3.77298613e+05\n",
      " -3.95324056e+04  5.05423097e+04  8.58668209e+04  1.19508799e+04\n",
      "  4.40926230e+03 -2.42036849e+03 -1.04154413e+04 -3.52433244e+03\n",
      " -5.51812991e+02  1.56868693e+04  9.30838376e+03 -2.37972776e+04\n",
      " -1.84685550e+04 -1.39691710e+03  1.02103114e+04  9.00899820e+03\n",
      " -1.80806343e+04 -1.33613845e+04 -1.18190855e+04 -1.34487318e+04\n",
      " -4.25754268e+03  6.09673788e+04 -6.43387645e+05  7.80389957e+04\n",
      "  1.78932369e+05  5.71162673e-10  7.72724679e+04  8.38437735e+04\n",
      "  7.56105345e+04  1.49689504e+05  1.26589333e+04 -2.71086301e+03\n",
      " -2.56468434e+04  1.99960379e+04 -7.52272937e+03  1.00920614e+03\n",
      "  7.55090109e+01 -2.18278728e-11  7.73150716e+03 -7.14899383e+03\n",
      " -4.96245128e+03  6.45622328e+03  2.36726106e+00 -1.87567854e+03\n",
      "  1.93777543e+03 -6.95857100e+03  2.55041743e+03  1.76756371e+03\n",
      " -3.20360643e+03 -7.52272937e+03  1.00988558e+04  3.17963639e+03\n",
      "  4.60133382e+03  7.21358263e+02 -2.84083239e+04  4.08194414e+03\n",
      " -3.50120655e+03  8.57721719e+03  6.12923710e+03  6.97409177e+03\n",
      "  9.12781695e+02 -1.87133351e+03  6.73800987e+03  5.45593620e+03\n",
      "  1.44141772e+04  1.25773294e+04  7.89967683e+03 -1.02563462e+04\n",
      " -1.02206601e+04  5.39787556e+04 -7.29146314e+03 -2.08636091e+04\n",
      " -7.30434713e+03 -1.85193362e+04  4.40924775e+02  5.44140418e+03\n",
      "  6.29412644e+03 -1.20545525e+04  1.91585811e+04 -1.92804840e+04\n",
      "  5.85217512e+02 -6.12766193e+03 -1.40579461e+04 -9.30453150e+03\n",
      " -2.64490616e+04 -2.72504753e+04  4.67683268e+04 -2.19737119e+04\n",
      " -1.02911682e+04  8.24687348e+03 -1.27741504e+04 -1.40864769e+04\n",
      " -5.66547421e+03 -3.61212346e+03 -3.91269368e+02 -1.15956841e+04\n",
      " -6.86967832e+03 -7.70692568e+02  3.04109845e+04  1.89159392e+04\n",
      "  2.39996275e+04  2.07795335e+04  1.98660072e+04  2.12106432e+04\n",
      " -6.13716660e+03  2.01254436e+03 -5.17725937e+03 -7.50691490e+02\n",
      " -8.34425704e+03  1.83968301e+04  6.32145870e+02  5.35127918e+03\n",
      " -1.92144907e+03 -1.42200631e+03 -2.63996967e+03 -1.21560963e+03\n",
      "  1.21560963e+03 -1.12305603e+04 -1.23518942e+04 -1.35689777e+04\n",
      " -4.37493904e+04 -1.28976227e+04  1.93685460e+04 -4.99548444e+03\n",
      " -8.18918984e+03 -6.18387168e+03 -1.47330746e+04  2.39829489e+03\n",
      "  1.59019777e+04  1.76649085e+04  8.86786098e+02 -4.89174169e+04\n",
      "  2.67985243e+04 -6.52486430e+03 -1.01581549e+04  2.37683398e+02\n",
      "  8.24217532e+03 -3.02688142e+03 -1.84220971e+04 -2.84457067e+03\n",
      " -2.67600828e+03  2.08668032e+02  1.16292549e+04  1.61538157e+03\n",
      " -3.17027654e+03 -4.88816502e+03 -2.43093005e+03  7.48534299e+04\n",
      " -1.63124716e+04 -1.17056445e+04 -4.37493904e+04 -1.35752950e+04\n",
      " -6.26086755e+04  9.59944895e+03  1.68571389e+04  9.79379198e+03\n",
      "  1.58689241e+04  2.96484773e+03 -3.39498758e+03  4.30139852e+02\n",
      " -1.23177860e+05 -8.92122356e+04 -6.65102791e+04 -9.65113921e+03\n",
      "  2.33756067e+03  9.01624618e+02 -7.32632108e+03  1.97569645e+04\n",
      "  7.41014041e+03  2.16709593e+03 -3.07546363e+04 -2.23716663e+03\n",
      "  7.92624169e+03  1.88316509e+04  1.11190531e+03  1.58239020e+03\n",
      " -2.49513225e+03 -2.02241034e+04  1.69840936e+03 -6.19419520e+03\n",
      " -1.08063916e+04 -2.98137187e+02 -5.21786203e+03 -8.50984360e+03\n",
      " -1.18747528e+03  2.60197097e+04]\n",
      "L'ordonnée à l'origine est : 12064\n",
      "\n",
      "Ridge\n",
      "Les coefficients de régression sont : [ 4.57119837e-01 -7.57847765e+01  4.89235172e-01  6.90896203e+03\n",
      "  5.29628420e+03  2.35013015e+02  7.95874489e+01  8.07458885e+00\n",
      "  1.00422550e+00  5.48298640e-01  9.62710489e+00  1.06561307e+01\n",
      "  2.88400931e+01 -6.87408532e+00  3.26221526e+01  4.39237398e+03\n",
      "  1.57258209e+03  5.01943239e+03  1.42009894e+03 -3.12743284e+03\n",
      " -1.08808836e+04  2.46375627e+03  2.78677658e+03  1.11404974e+04\n",
      " -6.02781022e+00  2.06564712e+01  1.83573984e+01  2.27900718e+01\n",
      "  4.28123172e+01  4.57268013e+01 -3.24644667e+01 -1.86515496e-01\n",
      " -5.03198767e+02 -6.33095244e+02 -2.31326067e+04  1.39222521e+04\n",
      "  6.35936831e+03  3.24306519e+03 -3.92078893e+02 -1.45245401e+04\n",
      "  1.45245401e+04  8.28865198e+01 -2.83859168e+03  1.29522920e+03\n",
      "  7.39515013e+03 -9.84957070e+03  1.15919136e+03 -9.45788908e+03\n",
      "  6.09777380e+03 -3.34987387e+03  6.70998916e+03  1.39128902e+04\n",
      " -1.39128902e+04  1.08725297e+03  1.23075021e+04 -9.02301486e+03\n",
      " -3.82032032e+03 -5.51419905e+02 -3.60338329e+02  5.53364582e+03\n",
      " -5.17330750e+03 -5.70251271e+03 -1.11436856e+03  6.35559609e+03\n",
      "  4.07471804e+02 -8.93257446e+03 -5.91165368e+03  1.37010728e+04\n",
      " -1.73557466e+04 -1.06242559e+04 -6.09824500e+03 -8.34620223e+03\n",
      " -1.59719734e+04 -1.33507269e+04  9.48640692e+03 -1.18164389e+04\n",
      "  3.33387495e+04  2.49904108e+04 -1.16983747e+04 -3.62332272e+03\n",
      " -7.36373062e+03 -3.62791140e+03  6.23291212e+02  4.65377623e+04\n",
      " -6.11801794e+03  2.21529413e+03 -3.90164503e+02  8.64344452e+02\n",
      "  1.23134965e+04  6.18802736e+02 -1.13465340e+04 -6.78224063e+03\n",
      "  1.01094534e+04 -1.29177000e+04  7.53054205e+03  2.50329170e+04\n",
      "  3.11849686e+04  3.43565502e+04  2.16133086e+04 -1.46775709e+05\n",
      " -3.88432362e+03  1.00238369e+04  2.84484514e+04  8.20819696e+03\n",
      "  8.03307276e+03 -2.27587002e+02 -1.06427246e+04 -5.37095814e+03\n",
      " -1.61349143e+03  1.02227771e+04  1.06433692e+04 -1.59277181e+04\n",
      " -1.39652496e+04 -5.45637058e+03  7.85782622e+03  8.23885715e+03\n",
      "  8.86342107e+03 -1.09204388e+04 -4.45818398e+03 -9.01967730e+03\n",
      " -4.69431606e+02  1.60043106e+04 -1.66377364e+05  1.97284052e+04\n",
      "  2.21224748e+04  0.00000000e+00  9.85803393e+03  9.58261398e+03\n",
      "  1.67734466e+04  8.83123898e+04  6.18712959e+03 -1.48725332e+03\n",
      " -8.56952324e+03  1.56173259e+04 -4.12026963e+03  5.26635197e+03\n",
      " -2.82076513e+03  0.00000000e+00  2.60666879e+03 -3.55212928e+03\n",
      "  1.39841472e+02 -7.46182217e+02 -1.25357076e+03 -5.54903522e+03\n",
      " -1.71858890e+03 -4.27089185e+03 -2.73484287e+02 -6.45330974e+02\n",
      "  1.12138404e+03 -4.12026963e+03  1.72391153e+03  3.68122127e+03\n",
      "  7.79009329e+03  3.42253999e+03 -1.02246329e+04  2.41020304e+03\n",
      " -9.80904589e+03 -1.40372623e+03  5.78429501e+03  7.61043630e+03\n",
      " -2.79670270e+03 -5.94495075e+03  2.15301768e+03  1.25642285e+03\n",
      "  7.06171513e+03  1.14368363e+04  5.94458680e+03 -7.60038753e+03\n",
      " -9.78103555e+03  2.16133086e+04 -1.00371208e+03 -8.82335493e+03\n",
      " -3.69755607e+03 -8.08868557e+03 -1.44851943e+03  5.09071767e+03\n",
      "  5.06622321e+03 -1.13208700e+04  1.27163211e+04 -1.01038725e+04\n",
      "  1.15013723e+04  9.57857203e+01 -4.46626240e+03 -2.29143176e+03\n",
      " -3.87155784e+03 -5.68244778e+03  1.25449345e+04  1.84853498e+03\n",
      " -1.51108923e+03  1.60356627e+04 -3.06448345e+03 -6.62062609e+03\n",
      "  1.21154379e+03  2.33505493e+03  5.65953884e+03 -4.41502806e+03\n",
      "  2.71795416e+02 -2.23441014e+02  4.30912369e+03 -2.65804251e+03\n",
      "  2.20472389e+03 -2.98171586e+02 -2.43393945e+03 -5.78731383e+02\n",
      " -7.40487863e+02  1.22018677e+03  3.26254846e+03 -2.50184158e+01\n",
      " -1.42712088e+04  1.05539799e+04  2.11842375e+03  7.47933626e+03\n",
      " -1.02745864e+03 -7.60437420e+03 -9.65927168e+02 -2.19585248e+03\n",
      "  2.19585248e+03 -1.52099849e+03 -5.49136278e+02  9.50918468e+03\n",
      " -3.35476082e+03 -3.41363840e+03  2.10975148e+04 -6.90499117e+03\n",
      " -7.21529102e+03 -6.97723259e+03 -9.98946575e+03 -6.81903895e+03\n",
      "  7.63344544e+03  7.74273268e+03  4.03822809e+03 -2.19763340e+04\n",
      "  1.93704325e+04  2.89501430e+03 -4.63337889e+03  2.58963103e+03\n",
      "  2.26391414e+03 -4.83052219e+02 -1.38023341e+04  3.83736667e+02\n",
      "  1.69900852e+03  3.48745038e+02  7.40259183e+03  2.30783355e+03\n",
      "  4.24925516e+02 -2.60374134e+03  5.18397327e+02  2.11565299e+04\n",
      " -1.51265010e+04  7.08486826e+03 -3.35476082e+03 -1.14205548e+04\n",
      " -1.12638946e+04 -1.99109853e+03  1.00320693e+04 -2.78077735e+03\n",
      "  4.34328268e+03  1.12205860e+03 -2.07361103e+03  9.51552435e+02\n",
      "  4.42020625e+03  1.03485973e+04 -7.22238245e+04 -3.41700542e+03\n",
      "  2.82040230e+02  1.85695791e+02 -7.51903625e+03 -3.45109003e+03\n",
      "  6.21143743e+02 -1.20098493e+03 -1.09050648e+04 -6.90049235e+03\n",
      "  7.15364741e+03  1.11567424e+04  3.51568937e+03  2.66578715e+03\n",
      " -3.22469302e+03 -8.94274386e+03  3.41843941e+03 -8.84237646e+03\n",
      " -1.18620090e+04 -2.48996264e+03  1.35761718e+04 -8.42837727e+03\n",
      " -5.84016835e+02  9.78819393e+03]\n",
      "L'ordonnée à l'origine est : 557011\n",
      "\n",
      "Lasso\n",
      "Les coefficients de régression sont : [-3.70786749e-01 -1.75446199e+02  3.80532195e-01  8.66009053e+03\n",
      "  5.80714098e+03  3.08861891e+02  6.88852712e+01  1.37094730e+01\n",
      "  6.14360929e+00  5.19773138e+00  3.34991624e+00  3.78018229e+01\n",
      "  4.55280092e+01  2.33295040e+01  5.80835597e+00  4.01410788e+03\n",
      " -0.00000000e+00  2.46466427e+03  0.00000000e+00 -3.16601831e+03\n",
      " -5.75822316e+03  2.41033332e+03  3.06509591e+03  7.05121722e+03\n",
      "  6.76228228e+00  2.19404739e+01  1.05387530e+01  1.44694809e+01\n",
      "  2.84992997e+01  5.30909431e+01 -4.92391555e+01 -8.83871887e-01\n",
      " -4.95491592e+02 -4.17042622e+02 -0.00000000e+00  4.46455650e+02\n",
      "  0.00000000e+00  0.00000000e+00 -3.17403748e+03 -0.00000000e+00\n",
      "  0.00000000e+00 -0.00000000e+00  0.00000000e+00  0.00000000e+00\n",
      "  0.00000000e+00 -0.00000000e+00 -0.00000000e+00 -1.00376966e+04\n",
      "  0.00000000e+00 -0.00000000e+00  0.00000000e+00  0.00000000e+00\n",
      " -0.00000000e+00  0.00000000e+00  1.00783322e+04 -5.15526103e+02\n",
      " -0.00000000e+00 -0.00000000e+00 -0.00000000e+00  1.61626076e+02\n",
      " -0.00000000e+00 -0.00000000e+00 -0.00000000e+00  0.00000000e+00\n",
      "  4.42189213e+03  0.00000000e+00 -0.00000000e+00  1.60926100e+04\n",
      " -7.29745576e+03 -0.00000000e+00 -0.00000000e+00 -0.00000000e+00\n",
      " -3.87690511e+03 -2.11353324e+03  0.00000000e+00 -0.00000000e+00\n",
      "  3.54705456e+04  2.67080914e+04 -1.61786117e+03  0.00000000e+00\n",
      "  0.00000000e+00 -0.00000000e+00  1.02237480e+04  4.19990200e+04\n",
      " -0.00000000e+00  0.00000000e+00  0.00000000e+00 -0.00000000e+00\n",
      "  9.45578328e+03 -0.00000000e+00 -3.51056887e+01 -0.00000000e+00\n",
      "  0.00000000e+00 -0.00000000e+00 -0.00000000e+00  0.00000000e+00\n",
      "  0.00000000e+00  0.00000000e+00  0.00000000e+00 -1.26448540e+05\n",
      " -0.00000000e+00 -0.00000000e+00  0.00000000e+00  0.00000000e+00\n",
      "  5.74477951e+03 -0.00000000e+00 -0.00000000e+00 -0.00000000e+00\n",
      " -0.00000000e+00  0.00000000e+00  1.00443264e+03 -0.00000000e+00\n",
      " -0.00000000e+00 -5.03217768e+02  0.00000000e+00  0.00000000e+00\n",
      "  0.00000000e+00 -1.10123112e+03  0.00000000e+00  0.00000000e+00\n",
      "  0.00000000e+00  0.00000000e+00 -2.38088555e+05 -0.00000000e+00\n",
      "  0.00000000e+00  0.00000000e+00 -0.00000000e+00 -0.00000000e+00\n",
      "  0.00000000e+00  4.65649247e+04 -0.00000000e+00 -0.00000000e+00\n",
      " -0.00000000e+00  1.15423279e+04 -0.00000000e+00  0.00000000e+00\n",
      " -0.00000000e+00  0.00000000e+00  5.77169460e+02 -5.21087556e+02\n",
      " -0.00000000e+00 -0.00000000e+00  0.00000000e+00 -2.54831539e+02\n",
      " -0.00000000e+00 -0.00000000e+00 -0.00000000e+00 -0.00000000e+00\n",
      "  0.00000000e+00 -0.00000000e+00  0.00000000e+00 -0.00000000e+00\n",
      "  0.00000000e+00  0.00000000e+00 -0.00000000e+00 -9.99073317e+02\n",
      " -0.00000000e+00 -0.00000000e+00  0.00000000e+00  0.00000000e+00\n",
      " -0.00000000e+00 -0.00000000e+00 -0.00000000e+00 -0.00000000e+00\n",
      "  6.37397785e+01  1.90642056e+04  0.00000000e+00 -0.00000000e+00\n",
      " -3.54026807e+03  0.00000000e+00  0.00000000e+00 -0.00000000e+00\n",
      "  0.00000000e+00 -0.00000000e+00 -1.81440941e+02  0.00000000e+00\n",
      "  7.59488695e+02 -0.00000000e+00  0.00000000e+00 -0.00000000e+00\n",
      "  1.72800159e+04  0.00000000e+00 -5.81635770e+02 -0.00000000e+00\n",
      " -0.00000000e+00 -0.00000000e+00  0.00000000e+00  2.85368252e+03\n",
      "  0.00000000e+00  1.79754587e+04 -0.00000000e+00 -5.86450632e+03\n",
      "  0.00000000e+00  6.13071537e+02  3.61975825e+03 -7.39291570e+02\n",
      " -0.00000000e+00 -8.76506977e+02  0.00000000e+00 -0.00000000e+00\n",
      "  0.00000000e+00  0.00000000e+00 -0.00000000e+00  0.00000000e+00\n",
      "  0.00000000e+00 -0.00000000e+00  0.00000000e+00  0.00000000e+00\n",
      " -0.00000000e+00  0.00000000e+00  3.31637528e+03  0.00000000e+00\n",
      " -0.00000000e+00 -0.00000000e+00 -0.00000000e+00 -0.00000000e+00\n",
      "  0.00000000e+00  0.00000000e+00  0.00000000e+00  0.00000000e+00\n",
      "  0.00000000e+00 -0.00000000e+00  2.62800962e+04  0.00000000e+00\n",
      " -0.00000000e+00 -1.70963323e+03 -0.00000000e+00 -0.00000000e+00\n",
      " -0.00000000e+00  0.00000000e+00  0.00000000e+00 -0.00000000e+00\n",
      "  1.05052953e+04  0.00000000e+00 -0.00000000e+00  1.93997927e+03\n",
      " -0.00000000e+00 -0.00000000e+00 -0.00000000e+00 -0.00000000e+00\n",
      " -0.00000000e+00  0.00000000e+00 -0.00000000e+00  0.00000000e+00\n",
      "  0.00000000e+00 -1.52602883e+03 -0.00000000e+00  0.00000000e+00\n",
      " -3.62264375e+03  0.00000000e+00  0.00000000e+00 -3.41931348e+03\n",
      "  0.00000000e+00 -0.00000000e+00  0.00000000e+00 -0.00000000e+00\n",
      " -0.00000000e+00  0.00000000e+00 -0.00000000e+00  0.00000000e+00\n",
      "  0.00000000e+00  0.00000000e+00 -0.00000000e+00 -0.00000000e+00\n",
      "  0.00000000e+00  0.00000000e+00 -0.00000000e+00 -0.00000000e+00\n",
      "  0.00000000e+00 -0.00000000e+00  0.00000000e+00 -0.00000000e+00\n",
      "  0.00000000e+00  0.00000000e+00  0.00000000e+00  0.00000000e+00\n",
      " -0.00000000e+00  0.00000000e+00  0.00000000e+00 -3.17991169e+03\n",
      " -9.14824048e+03  0.00000000e+00 -0.00000000e+00 -0.00000000e+00\n",
      "  0.00000000e+00  6.45508249e+03]\n",
      "L'ordonnée à l'origine est : 69126\n",
      "\n"
     ]
    }
   ],
   "source": [
    "from sklearn import linear_model\n",
    "from sklearn.metrics import r2_score\n",
    "regr = linear_model.LinearRegression()\n",
    "\n",
    "list = [xtrain, ytrain]\n",
    "\n",
    "regr.fit(*list)\n",
    "\n",
    "print(\"Régression linéaire\")\n",
    "print(f\"Les coefficients de régression sont : {regr.coef_}\")\n",
    "print(f\"L'ordonnée à l'origine est : {round(regr.intercept_)}\\n\")\n",
    "\n",
    "\n",
    "ridge_regr = linear_model.Ridge(alpha=1)\n",
    "ridge_regr.fit(*list)\n",
    "\n",
    "print(\"Ridge\")\n",
    "print(f\"Les coefficients de régression sont : {ridge_regr.coef_}\")\n",
    "print(f\"L'ordonnée à l'origine est : {round(ridge_regr.intercept_)}\\n\")\n",
    "\n",
    "\n",
    "lasso_regr = linear_model.Lasso(alpha=177)\n",
    "lasso_regr.fit(*list)\n",
    "\n",
    "print(\"Lasso\")\n",
    "print(f\"Les coefficients de régression sont : {lasso_regr.coef_}\")\n",
    "print(f\"L'ordonnée à l'origine est : {round(lasso_regr.intercept_)}\\n\")"
   ]
  },
  {
   "cell_type": "code",
   "execution_count": 71,
   "metadata": {},
   "outputs": [],
   "source": [
    "ytrainpred_linear = regr.predict(xtrain)\n",
    "ytestpred_linear = regr.predict(xtest)\n",
    "ytrainpred_ridge = ridge_regr.predict(xtrain)\n",
    "ytestpred_ridge = ridge_regr.predict(xtest)\n",
    "ytrainpred_lasso = lasso_regr.predict(xtrain)\n",
    "ytestpred_lasso = lasso_regr.predict(xtest)\n"
   ]
  },
  {
   "cell_type": "code",
   "execution_count": 72,
   "metadata": {},
   "outputs": [
    {
     "name": "stdout",
     "output_type": "stream",
     "text": [
      "Train - Linear regression\n",
      "R2 : 0.9409764934193443\n",
      "Root mean squared error : 19068.2407898473\n",
      "\n",
      "Train - Ridge\n",
      "R2 : 0.9221983986423297\n",
      "Root mean squared error : 21892.350457256438\n",
      "\n",
      "Train - Lasso\n",
      "R2 : 0.9050774427408008\n",
      "Root mean squared error : 24181.47782148172\n",
      "\n",
      "Test - Linear regression\n",
      "R2 : 0.8001555469816983\n",
      "Root mean squared error : 37108.60493842366\n",
      "\n",
      "Test - Ridge\n",
      "R2 : 0.870567169883046\n",
      "Root mean squared error : 29864.1942878994\n",
      "\n",
      "Test - Lasso\n",
      "R2 : 0.8906374910554908\n",
      "Root mean squared error : 27451.293375425394\n",
      "\n"
     ]
    }
   ],
   "source": [
    "from sklearn.metrics import mean_absolute_error, mean_squared_error\n",
    "\n",
    "def display_metrics(train, pred):\n",
    "    print(f'R2 : {r2_score(train, pred)}')\n",
    "    print(f'Root mean squared error : {mean_squared_error(train, pred, squared=False)}\\n')\n",
    "\n",
    "\n",
    "\n",
    "print('Train - Linear regression')\n",
    "display_metrics(ytrain, ytrainpred_linear)\n",
    "\n",
    "print('Train - Ridge')\n",
    "display_metrics(ytrain, ytrainpred_ridge)\n",
    "\n",
    "print('Train - Lasso')\n",
    "display_metrics(ytrain, ytrainpred_lasso)\n",
    "\n",
    "print('Test - Linear regression')\n",
    "display_metrics(ytest, ytestpred_linear)\n",
    "\n",
    "print('Test - Ridge')\n",
    "display_metrics(ytest, ytestpred_ridge)\n",
    "\n",
    "print('Test - Lasso')\n",
    "display_metrics(ytest, ytestpred_lasso)\n"
   ]
  },
  {
   "cell_type": "code",
   "execution_count": 73,
   "metadata": {},
   "outputs": [
    {
     "data": {
      "text/plain": [
       "<AxesSubplot:xlabel='SalePrice'>"
      ]
     },
     "execution_count": 73,
     "metadata": {},
     "output_type": "execute_result"
    },
    {
     "data": {
      "image/png": "[encoded data removed]",
      "text/plain": [
       "<Figure size 432x288 with 1 Axes>"
      ]
     },
     "metadata": {
      "needs_background": "light"
     },
     "output_type": "display_data"
    }
   ],
   "source": [
    "sns.scatterplot(x=ytest, y=ytestpred_linear)"
   ]
  },
  {
   "cell_type": "code",
   "execution_count": 74,
   "metadata": {},
   "outputs": [
    {
     "data": {
      "text/plain": [
       "<AxesSubplot:xlabel='SalePrice'>"
      ]
     },
     "execution_count": 74,
     "metadata": {},
     "output_type": "execute_result"
    },
    {
     "data": {
      "image/png": "[encoded data removed]",
      "text/plain": [
       "<Figure size 432x288 with 1 Axes>"
      ]
     },
     "metadata": {
      "needs_background": "light"
     },
     "output_type": "display_data"
    }
   ],
   "source": [
    "sns.scatterplot(x=ytest, y=ytestpred_lasso)"
   ]
  },
  {
   "cell_type": "code",
   "execution_count": 75,
   "metadata": {},
   "outputs": [
    {
     "data": {
      "text/plain": [
       "<AxesSubplot:xlabel='SalePrice'>"
      ]
     },
     "execution_count": 75,
     "metadata": {},
     "output_type": "execute_result"
    },
    {
     "data": {
      "image/png": "[encoded data removed]",
      "text/plain": [
       "<Figure size 432x288 with 1 Axes>"
      ]
     },
     "metadata": {
      "needs_background": "light"
     },
     "output_type": "display_data"
    }
   ],
   "source": [
    "sns.scatterplot(x=ytest, y=ytestpred_ridge)"
   ]
  }
 ],
 "metadata": {
  "kernelspec": {
   "display_name": "Python 3.8.5 64-bit ('base': conda)",
   "language": "python",
   "name": "python385jvsc74a57bd05b9c502b618e97131917a2f1409b4700bb639cdf99ce16cd88a0e27a90524386"
  },
  "language_info": {
   "codemirror_mode": {
    "name": "ipython",
    "version": 3
   },
   "file_extension": ".py",
   "mimetype": "text/x-python",
   "name": "python",
   "nbconvert_exporter": "python",
   "pygments_lexer": "ipython3",
   "version": "3.8.5"
  },
  "metadata": {
   "interpreter": {
    "hash": "5b9c502b618e97131917a2f1409b4700bb639cdf99ce16cd88a0e27a90524386"
   }
  }
 },
 "nbformat": 4,
 "nbformat_minor": 2
}
